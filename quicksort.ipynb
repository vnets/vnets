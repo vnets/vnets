{
 "cells": [
  {
   "cell_type": "code",
   "execution_count": 2,
   "metadata": {
    "collapsed": true
   },
   "outputs": [],
   "source": [
    "import random as rnd\n",
    "import time\n",
    "from pylab import *\n"
   ]
  },
  {
   "cell_type": "code",
   "execution_count": 4,
   "metadata": {
    "collapsed": true,
    "scrolled": false
   },
   "outputs": [],
   "source": [
    "def quicksort(a):\n",
    "    n=len(a)\n",
    "    if n<2:\n",
    "        return a\n",
    "    else:\n",
    "        smoll=[]\n",
    "        big=[]\n",
    "        centr=n//2\n",
    "        for i in range(n):\n",
    "            if i!=centr:\n",
    "                if a[i]<a[centr]:\n",
    "                    smoll.append(a[i])\n",
    "                else:\n",
    "                    big.append(a[i])\n",
    "        smoll=quicksort(smoll)\n",
    "        big=quicksort(big)\n",
    "        return (smoll+[a[centr]]+big)\n",
    "def massset(n):\n",
    "    return [(int(rnd.random()*1000)) for i in range(n)]"
   ]
  },
  {
   "cell_type": "code",
   "execution_count": 6,
   "metadata": {
    "collapsed": true
   },
   "outputs": [],
   "source": [
    "def quick_sort(array):\n",
    "    if len(array) > 2:\n",
    "        middle = array[len(array)//2]\n",
    "        left = [item for item in array if item < middle]\n",
    "        right = [item for item in array if item > middle]\n",
    "        left = quick_sort(left)\n",
    "        right = quick_sort(right)\n",
    "        return left + [middle] + right\n",
    "    return array"
   ]
  },
  {
   "cell_type": "code",
   "execution_count": 7,
   "metadata": {},
   "outputs": [
    {
     "name": "stdout",
     "output_type": "stream",
     "text": [
      "[0.0016382932662963867, 0.0030997276306152345, 0.0047835826873779295, 0.005522799491882324, 0.006471037864685059, 0.007649707794189453, 0.008640599250793458, 0.009868311882019042, 0.010863137245178223, 0.011662769317626952, 0.012831544876098633, 0.014197468757629395, 0.01511988639831543, 0.016372179985046385, 0.018472123146057128, 0.018619894981384277, 0.01941211223602295, 0.02079923152923584, 0.02189791202545166, 0.023036861419677736, 0.024170947074890137, 0.024478745460510255, 0.027341794967651368, 0.027430200576782228, 0.0284604549407959, 0.030333280563354492, 0.032119250297546385, 0.0338383674621582, 0.03519260883331299, 0.03741462230682373, 0.035671067237854, 0.039094972610473636, 0.04295525550842285, 0.04029543399810791, 0.04147641658782959, 0.04273512363433838, 0.04352760314941406, 0.0439877986907959, 0.045847725868225095, 0.0469304084777832, 0.04556255340576172, 0.046657872200012204, 0.04945945739746094, 0.05081620216369629, 0.05372366905212402, 0.055530333518981935, 0.05610513687133789, 0.058400845527648924, 0.06297860145568848, 0.05689346790313721, 0.0600827693939209, 0.0633127212524414, 0.06290004253387452, 0.061304473876953126, 0.06106412410736084, 0.06190400123596192, 0.06640667915344238, 0.07147061824798584, 0.06579911708831787, 0.06676349639892579, 0.06985757350921631, 0.06713497638702393, 0.07619073390960693, 0.07194962501525878, 0.07775299549102783, 0.07997617721557618, 0.07767262458801269, 0.08051822185516358, 0.08503363132476807, 0.08946406841278076, 0.08055596351623535, 0.08348503112792968, 0.08553836345672608, 0.08487150669097901, 0.08506219387054444, 0.08339183330535889, 0.09117889404296875, 0.09361073970794678, 0.08935890197753907, 0.09020066261291504, 0.09382305145263672, 0.09144704341888428, 0.09475598335266114, 0.09558138847351075, 0.09497106075286865, 0.10256023406982422, 0.09939205646514893, 0.09847674369812012, 0.10424864292144775, 0.1019862413406372, 0.10131647586822509, 0.10460817813873291, 0.10427908897399903, 0.10551211833953858, 0.1108778476715088, 0.10789275169372559, 0.11598803997039794, 0.11109910011291504, 0.11318271160125733]\n"
     ]
    }
   ],
   "source": [
    "t=[]\n",
    "ts=[]\n",
    "a=1000\n",
    "b=100000\n",
    "h=1000\n",
    "M=10\n",
    "x=range(a,b,h)\n",
    "for m in range(M):\n",
    "    tm=[]\n",
    "    for n in x:\n",
    "        mas=massset(n)\n",
    "        t1=time.time()\n",
    "        mas=quick_sort(mas)\n",
    "        tm.append(time.time()-t1)\n",
    "    t.append(tm)\n",
    "\n",
    "for n in range(len(x)):\n",
    "    sum=0\n",
    "    for m in range(M):\n",
    "        sum+=t[m][n]\n",
    "    ts.append(sum/M)\n",
    "print(ts)"
   ]
  },
  {
   "cell_type": "code",
   "execution_count": 8,
   "metadata": {},
   "outputs": [
    {
     "data": {
      "image/png": "[encoded data removed]",
      "text/plain": [
       "<matplotlib.figure.Figure at 0x7f6bd7be28d0>"
      ]
     },
     "metadata": {},
     "output_type": "display_data"
    }
   ],
   "source": [
    "plot(x,ts)\n",
    "savefig('example.png')\n",
    "show()"
   ]
  }
 ],
 "metadata": {
  "kernelspec": {
   "display_name": "Python 3",
   "language": "python",
   "name": "python3"
  },
  "language_info": {
   "codemirror_mode": {
    "name": "ipython",
    "version": 3
   },
   "file_extension": ".py",
   "mimetype": "text/x-python",
   "name": "python",
   "nbconvert_exporter": "python",
   "pygments_lexer": "ipython3",
   "version": "3.6.2"
  }
 },
 "nbformat": 4,
 "nbformat_minor": 2
}
